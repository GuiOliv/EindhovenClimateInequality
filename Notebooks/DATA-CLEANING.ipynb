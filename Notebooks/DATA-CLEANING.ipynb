{
 "cells": [
  {
   "cell_type": "code",
   "execution_count": 1,
   "id": "445b19e6",
   "metadata": {},
   "outputs": [],
   "source": [
    "import pandas as pd\n",
    "import requests\n",
    "from tqdm.notebook import tqdm"
   ]
  },
  {
   "cell_type": "code",
   "execution_count": 2,
   "id": "b6d7e457",
   "metadata": {},
   "outputs": [],
   "source": [
    "PATH_TO_DATASETS = \"../Datasets/\""
   ]
  },
  {
   "cell_type": "markdown",
   "id": "09269e27",
   "metadata": {},
   "source": [
    "# GREEN SPACES\n",
    "\n",
    "This dataset describes an overview of public green, except for solitary trees. This data collection includes location, type of vegetation, and management information."
   ]
  },
  {
   "cell_type": "code",
   "execution_count": 3,
   "id": "06c8b9ea",
   "metadata": {},
   "outputs": [],
   "source": [
    "df = pd.read_csv(f'{PATH_TO_DATASETS}openbaar-groen0.csv', sep=';')"
   ]
  },
  {
   "cell_type": "code",
   "execution_count": 28,
   "id": "38762ba0",
   "metadata": {},
   "outputs": [],
   "source": [
    "df[['LAT', 'LON']] = df['geo_point_2d'].str.split(',', expand=True)\n",
    "df['LAT'] = pd.to_numeric(df['LAT'], errors='coerce')\n",
    "df['LON'] = pd.to_numeric(df['LON'], errors='coerce')"
   ]
  },
  {
   "cell_type": "code",
   "execution_count": null,
   "id": "436684d9",
   "metadata": {},
   "outputs": [],
   "source": [
    "#df.to_csv(f'{PATH_TO_DATASETS}green-spaces.csv', index=False)"
   ]
  },
  {
   "cell_type": "code",
   "execution_count": 32,
   "id": "b30fc46c",
   "metadata": {},
   "outputs": [],
   "source": [
    "df = pd.read_csv(f'{PATH_TO_DATASETS}green-spaces.csv')"
   ]
  },
  {
   "cell_type": "code",
   "execution_count": 33,
   "id": "093f36a5",
   "metadata": {},
   "outputs": [],
   "source": [
    "df.drop(columns=['geo_point_2d', 'geo_shape', 'TECHN_KWAL', 'STREET'], inplace=True)"
   ]
  },
  {
   "cell_type": "code",
   "execution_count": null,
   "id": "b5d2b199",
   "metadata": {},
   "outputs": [],
   "source": [
    "#df.to_csv(f'{PATH_TO_DATASETS}green-spaces.csv', index=False)"
   ]
  },
  {
   "cell_type": "markdown",
   "id": "76f353f9",
   "metadata": {},
   "source": [
    "# AIR POLLUTION"
   ]
  },
  {
   "cell_type": "code",
   "execution_count": 13,
   "id": "01b06d74",
   "metadata": {},
   "outputs": [],
   "source": [
    "df = pd.read_csv(f'{PATH_TO_DATASETS}merged_air_pollution_data.csv')"
   ]
  },
  {
   "cell_type": "code",
   "execution_count": 15,
   "id": "b26de0e5",
   "metadata": {},
   "outputs": [],
   "source": [
    "cols_to_convert = ['Lat', 'Lon', 'PM1', 'PM2.5', 'PM10']\n",
    "for col in cols_to_convert:\n",
    "    df[col] = df[col].str.replace(',', '.', regex=False)\n",
    "    df[col] = pd.to_numeric(df[col], errors='coerce')"
   ]
  },
  {
   "cell_type": "code",
   "execution_count": 16,
   "id": "a5a8094b",
   "metadata": {},
   "outputs": [],
   "source": [
    "df['Time_UTC'] = pd.to_datetime(df['Time_UTC'], errors='coerce')\n",
    "df['Time_Local'] = pd.to_datetime(df['Time_Local'], errors='coerce')"
   ]
  },
  {
   "cell_type": "code",
   "execution_count": null,
   "id": "d7478e22",
   "metadata": {},
   "outputs": [],
   "source": [
    "df.drop(columns=['Time_Local'], inplace=True)"
   ]
  }
 ],
 "metadata": {
  "kernelspec": {
   "display_name": "Python 3",
   "language": "python",
   "name": "python3"
  },
  "language_info": {
   "codemirror_mode": {
    "name": "ipython",
    "version": 3
   },
   "file_extension": ".py",
   "mimetype": "text/x-python",
   "name": "python",
   "nbconvert_exporter": "python",
   "pygments_lexer": "ipython3",
   "version": "3.12.4"
  }
 },
 "nbformat": 4,
 "nbformat_minor": 5
}
